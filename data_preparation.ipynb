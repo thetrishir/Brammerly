{
 "cells": [
  {
   "cell_type": "markdown",
   "metadata": {},
   "source": [
    "1: Install and Import Required Modules and Libraries"
   ]
  },
  {
   "cell_type": "code",
   "execution_count": 2,
   "metadata": {},
   "outputs": [
    {
     "name": "stdout",
     "output_type": "stream",
     "text": [
      "Requirement already satisfied: pandas in g:\\capstone\\dataset\\env\\lib\\site-packages (2.2.3)\n",
      "Requirement already satisfied: numpy in g:\\capstone\\dataset\\env\\lib\\site-packages (1.26.4)\n",
      "Requirement already satisfied: nltk in g:\\capstone\\dataset\\env\\lib\\site-packages (3.9.1)\n",
      "Requirement already satisfied: scikit-learn in g:\\capstone\\dataset\\env\\lib\\site-packages (1.5.2)\n",
      "Requirement already satisfied: python-dateutil>=2.8.2 in g:\\capstone\\dataset\\env\\lib\\site-packages (from pandas) (2.9.0.post0)\n",
      "Requirement already satisfied: pytz>=2020.1 in g:\\capstone\\dataset\\env\\lib\\site-packages (from pandas) (2024.2)\n",
      "Requirement already satisfied: tzdata>=2022.7 in g:\\capstone\\dataset\\env\\lib\\site-packages (from pandas) (2024.2)\n",
      "Requirement already satisfied: click in g:\\capstone\\dataset\\env\\lib\\site-packages (from nltk) (8.1.7)\n",
      "Requirement already satisfied: joblib in g:\\capstone\\dataset\\env\\lib\\site-packages (from nltk) (1.4.2)\n",
      "Requirement already satisfied: regex>=2021.8.3 in g:\\capstone\\dataset\\env\\lib\\site-packages (from nltk) (2024.11.6)\n",
      "Requirement already satisfied: tqdm in g:\\capstone\\dataset\\env\\lib\\site-packages (from nltk) (4.66.3)\n",
      "Requirement already satisfied: scipy>=1.6.0 in g:\\capstone\\dataset\\env\\lib\\site-packages (from scikit-learn) (1.10.1)\n",
      "Requirement already satisfied: threadpoolctl>=3.1.0 in g:\\capstone\\dataset\\env\\lib\\site-packages (from scikit-learn) (3.5.0)\n",
      "Requirement already satisfied: six>=1.5 in g:\\capstone\\dataset\\env\\lib\\site-packages (from python-dateutil>=2.8.2->pandas) (1.16.0)\n",
      "Requirement already satisfied: colorama in g:\\capstone\\dataset\\env\\lib\\site-packages (from click->nltk) (0.4.6)\n",
      "Note: you may need to restart the kernel to use updated packages.\n",
      "Requirement already satisfied: bnlp_toolkit in g:\\capstone\\dataset\\env\\lib\\site-packages (4.0.3)\n",
      "Requirement already satisfied: sentencepiece==0.2.0 in g:\\capstone\\dataset\\env\\lib\\site-packages (from bnlp_toolkit) (0.2.0)\n",
      "Requirement already satisfied: gensim==4.3.2 in g:\\capstone\\dataset\\env\\lib\\site-packages (from bnlp_toolkit) (4.3.2)\n",
      "Requirement already satisfied: nltk in g:\\capstone\\dataset\\env\\lib\\site-packages (from bnlp_toolkit) (3.9.1)\n",
      "Requirement already satisfied: numpy in g:\\capstone\\dataset\\env\\lib\\site-packages (from bnlp_toolkit) (1.26.4)\n",
      "Requirement already satisfied: scipy==1.10.1 in g:\\capstone\\dataset\\env\\lib\\site-packages (from bnlp_toolkit) (1.10.1)\n",
      "Requirement already satisfied: sklearn-crfsuite==0.3.6 in g:\\capstone\\dataset\\env\\lib\\site-packages (from bnlp_toolkit) (0.3.6)\n",
      "Requirement already satisfied: tqdm==4.66.3 in g:\\capstone\\dataset\\env\\lib\\site-packages (from bnlp_toolkit) (4.66.3)\n",
      "Requirement already satisfied: ftfy==6.2.0 in g:\\capstone\\dataset\\env\\lib\\site-packages (from bnlp_toolkit) (6.2.0)\n",
      "Requirement already satisfied: emoji==1.7.0 in g:\\capstone\\dataset\\env\\lib\\site-packages (from bnlp_toolkit) (1.7.0)\n",
      "Requirement already satisfied: requests in g:\\capstone\\dataset\\env\\lib\\site-packages (from bnlp_toolkit) (2.32.3)\n",
      "Requirement already satisfied: wcwidth<0.3.0,>=0.2.12 in g:\\capstone\\dataset\\env\\lib\\site-packages (from ftfy==6.2.0->bnlp_toolkit) (0.2.13)\n",
      "Requirement already satisfied: smart-open>=1.8.1 in g:\\capstone\\dataset\\env\\lib\\site-packages (from gensim==4.3.2->bnlp_toolkit) (7.0.5)\n",
      "Requirement already satisfied: python-crfsuite>=0.8.3 in g:\\capstone\\dataset\\env\\lib\\site-packages (from sklearn-crfsuite==0.3.6->bnlp_toolkit) (0.9.11)\n",
      "Requirement already satisfied: six in g:\\capstone\\dataset\\env\\lib\\site-packages (from sklearn-crfsuite==0.3.6->bnlp_toolkit) (1.16.0)\n",
      "Requirement already satisfied: tabulate in g:\\capstone\\dataset\\env\\lib\\site-packages (from sklearn-crfsuite==0.3.6->bnlp_toolkit) (0.9.0)\n",
      "Requirement already satisfied: colorama in g:\\capstone\\dataset\\env\\lib\\site-packages (from tqdm==4.66.3->bnlp_toolkit) (0.4.6)\n",
      "Requirement already satisfied: click in g:\\capstone\\dataset\\env\\lib\\site-packages (from nltk->bnlp_toolkit) (8.1.7)\n",
      "Requirement already satisfied: joblib in g:\\capstone\\dataset\\env\\lib\\site-packages (from nltk->bnlp_toolkit) (1.4.2)\n",
      "Requirement already satisfied: regex>=2021.8.3 in g:\\capstone\\dataset\\env\\lib\\site-packages (from nltk->bnlp_toolkit) (2024.11.6)\n",
      "Requirement already satisfied: charset-normalizer<4,>=2 in g:\\capstone\\dataset\\env\\lib\\site-packages (from requests->bnlp_toolkit) (3.4.0)\n",
      "Requirement already satisfied: idna<4,>=2.5 in g:\\capstone\\dataset\\env\\lib\\site-packages (from requests->bnlp_toolkit) (3.10)\n",
      "Requirement already satisfied: urllib3<3,>=1.21.1 in g:\\capstone\\dataset\\env\\lib\\site-packages (from requests->bnlp_toolkit) (2.2.3)\n",
      "Requirement already satisfied: certifi>=2017.4.17 in g:\\capstone\\dataset\\env\\lib\\site-packages (from requests->bnlp_toolkit) (2024.8.30)\n",
      "Requirement already satisfied: wrapt in g:\\capstone\\dataset\\env\\lib\\site-packages (from smart-open>=1.8.1->gensim==4.3.2->bnlp_toolkit) (1.16.0)\n",
      "Note: you may need to restart the kernel to use updated packages.\n"
     ]
    },
    {
     "name": "stderr",
     "output_type": "stream",
     "text": [
      "[nltk_data] Downloading package punkt_tab to\n",
      "[nltk_data]     C:\\Users\\thetr\\AppData\\Roaming\\nltk_data...\n",
      "[nltk_data]   Package punkt_tab is already up-to-date!\n",
      "[nltk_data] Downloading package stopwords to\n",
      "[nltk_data]     C:\\Users\\thetr\\AppData\\Roaming\\nltk_data...\n",
      "[nltk_data]   Package stopwords is already up-to-date!\n",
      "g:\\Capstone\\Dataset\\env\\Lib\\site-packages\\tqdm\\auto.py:21: TqdmWarning: IProgress not found. Please update jupyter and ipywidgets. See https://ipywidgets.readthedocs.io/en/stable/user_install.html\n",
      "  from .autonotebook import tqdm as notebook_tqdm\n"
     ]
    }
   ],
   "source": [
    "%pip install pandas numpy nltk scikit-learn\n",
    "%pip install -U bnlp_toolkit\n",
    "\n",
    "import pandas as pd\n",
    "import nltk\n",
    "nltk.download('punkt_tab')\n",
    "nltk.download('stopwords')\n",
    "from nltk.corpus import stopwords\n",
    "import re\n",
    "from bnlp import BengaliCorpus as corpus # Import the BengaliCorpus class\n",
    "from bnlp import NLTKTokenizer"
   ]
  },
  {
   "cell_type": "markdown",
   "metadata": {},
   "source": [
    "2: Load the dataset"
   ]
  },
  {
   "cell_type": "code",
   "execution_count": 3,
   "metadata": {},
   "outputs": [
    {
     "name": "stdout",
     "output_type": "stream",
     "text": [
      "<class 'pandas.core.frame.DataFrame'>\n",
      "RangeIndex: 20000 entries, 0 to 19999\n",
      "Data columns (total 2 columns):\n",
      " #   Column    Non-Null Count  Dtype \n",
      "---  ------    --------------  ----- \n",
      " 0   content   19996 non-null  object\n",
      " 1   category  20000 non-null  object\n",
      "dtypes: object(2)\n",
      "memory usage: 312.6+ KB\n"
     ]
    },
    {
     "data": {
      "text/html": [
       "<div>\n",
       "<style scoped>\n",
       "    .dataframe tbody tr th:only-of-type {\n",
       "        vertical-align: middle;\n",
       "    }\n",
       "\n",
       "    .dataframe tbody tr th {\n",
       "        vertical-align: top;\n",
       "    }\n",
       "\n",
       "    .dataframe thead th {\n",
       "        text-align: right;\n",
       "    }\n",
       "</style>\n",
       "<table border=\"1\" class=\"dataframe\">\n",
       "  <thead>\n",
       "    <tr style=\"text-align: right;\">\n",
       "      <th></th>\n",
       "      <th>content</th>\n",
       "      <th>category</th>\n",
       "    </tr>\n",
       "  </thead>\n",
       "  <tbody>\n",
       "    <tr>\n",
       "      <th>0</th>\n",
       "      <td>গাজীপুরের কালিয়াকৈর উপজেলার তেলিরচালা এলাকায়...</td>\n",
       "      <td>bangladesh</td>\n",
       "    </tr>\n",
       "    <tr>\n",
       "      <th>1</th>\n",
       "      <td>এবারের উইম্বলডনটা স্মরণীয় করে রাখার মিশনেই যে...</td>\n",
       "      <td>sports</td>\n",
       "    </tr>\n",
       "    <tr>\n",
       "      <th>2</th>\n",
       "      <td>জাতীয় সংসদে বিএনপি চেয়ারপারসন ও বিরোধীদলীয় ...</td>\n",
       "      <td>bangladesh</td>\n",
       "    </tr>\n",
       "    <tr>\n",
       "      <th>3</th>\n",
       "      <td>সহজ পাসওয়ার্ডের কারণে অনলাইন অ্যাকাউন্ট সহজেই...</td>\n",
       "      <td>technology</td>\n",
       "    </tr>\n",
       "    <tr>\n",
       "      <th>4</th>\n",
       "      <td>কম্পিউটার মাউসের উদ্ভাবক ডগলাস অ্যাঙ্গেলবার্ট ...</td>\n",
       "      <td>technology</td>\n",
       "    </tr>\n",
       "  </tbody>\n",
       "</table>\n",
       "</div>"
      ],
      "text/plain": [
       "                                             content    category\n",
       "0  গাজীপুরের কালিয়াকৈর উপজেলার তেলিরচালা এলাকায়...  bangladesh\n",
       "1  এবারের উইম্বলডনটা স্মরণীয় করে রাখার মিশনেই যে...      sports\n",
       "2  জাতীয় সংসদে বিএনপি চেয়ারপারসন ও বিরোধীদলীয় ...  bangladesh\n",
       "3  সহজ পাসওয়ার্ডের কারণে অনলাইন অ্যাকাউন্ট সহজেই...  technology\n",
       "4  কম্পিউটার মাউসের উদ্ভাবক ডগলাস অ্যাঙ্গেলবার্ট ...  technology"
      ]
     },
     "execution_count": 3,
     "metadata": {},
     "output_type": "execute_result"
    }
   ],
   "source": [
    "# Load the CSV file\n",
    "df = pd.read_csv(\"data.csv\", encoding='utf-8')\n",
    "\n",
    "# Display basic info and a sample of the data\n",
    "df.info()\n",
    "df.head() "
   ]
  },
  {
   "cell_type": "markdown",
   "metadata": {},
   "source": [
    "3: Text Cleaning and Normalization"
   ]
  },
  {
   "cell_type": "code",
   "execution_count": 4,
   "metadata": {},
   "outputs": [
    {
     "data": {
      "text/html": [
       "<div>\n",
       "<style scoped>\n",
       "    .dataframe tbody tr th:only-of-type {\n",
       "        vertical-align: middle;\n",
       "    }\n",
       "\n",
       "    .dataframe tbody tr th {\n",
       "        vertical-align: top;\n",
       "    }\n",
       "\n",
       "    .dataframe thead th {\n",
       "        text-align: right;\n",
       "    }\n",
       "</style>\n",
       "<table border=\"1\" class=\"dataframe\">\n",
       "  <thead>\n",
       "    <tr style=\"text-align: right;\">\n",
       "      <th></th>\n",
       "      <th>content</th>\n",
       "      <th>cleaned_text</th>\n",
       "    </tr>\n",
       "  </thead>\n",
       "  <tbody>\n",
       "    <tr>\n",
       "      <th>0</th>\n",
       "      <td>গাজীপুরের কালিয়াকৈর উপজেলার তেলিরচালা এলাকায়...</td>\n",
       "      <td>গাজীপুরের কালিয়াকৈর উপজেলার তেলিরচালা এলাকায়...</td>\n",
       "    </tr>\n",
       "    <tr>\n",
       "      <th>1</th>\n",
       "      <td>এবারের উইম্বলডনটা স্মরণীয় করে রাখার মিশনেই যে...</td>\n",
       "      <td>এবারের উইম্বলডনটা স্মরণীয় করে রাখার মিশনেই যে...</td>\n",
       "    </tr>\n",
       "    <tr>\n",
       "      <th>2</th>\n",
       "      <td>জাতীয় সংসদে বিএনপি চেয়ারপারসন ও বিরোধীদলীয় ...</td>\n",
       "      <td>জাতীয় সংসদে বিএনপি চেয়ারপারসন ও বিরোধীদলীয় ...</td>\n",
       "    </tr>\n",
       "    <tr>\n",
       "      <th>3</th>\n",
       "      <td>সহজ পাসওয়ার্ডের কারণে অনলাইন অ্যাকাউন্ট সহজেই...</td>\n",
       "      <td>সহজ পাসওয়ার্ডের কারণে অনলাইন অ্যাকাউন্ট সহজেই...</td>\n",
       "    </tr>\n",
       "    <tr>\n",
       "      <th>4</th>\n",
       "      <td>কম্পিউটার মাউসের উদ্ভাবক ডগলাস অ্যাঙ্গেলবার্ট ...</td>\n",
       "      <td>কম্পিউটার মাউসের উদ্ভাবক ডগলাস অ্যাঙ্গেলবার্ট ...</td>\n",
       "    </tr>\n",
       "  </tbody>\n",
       "</table>\n",
       "</div>"
      ],
      "text/plain": [
       "                                             content  \\\n",
       "0  গাজীপুরের কালিয়াকৈর উপজেলার তেলিরচালা এলাকায়...   \n",
       "1  এবারের উইম্বলডনটা স্মরণীয় করে রাখার মিশনেই যে...   \n",
       "2  জাতীয় সংসদে বিএনপি চেয়ারপারসন ও বিরোধীদলীয় ...   \n",
       "3  সহজ পাসওয়ার্ডের কারণে অনলাইন অ্যাকাউন্ট সহজেই...   \n",
       "4  কম্পিউটার মাউসের উদ্ভাবক ডগলাস অ্যাঙ্গেলবার্ট ...   \n",
       "\n",
       "                                        cleaned_text  \n",
       "0  গাজীপুরের কালিয়াকৈর উপজেলার তেলিরচালা এলাকায়...  \n",
       "1  এবারের উইম্বলডনটা স্মরণীয় করে রাখার মিশনেই যে...  \n",
       "2  জাতীয় সংসদে বিএনপি চেয়ারপারসন ও বিরোধীদলীয় ...  \n",
       "3  সহজ পাসওয়ার্ডের কারণে অনলাইন অ্যাকাউন্ট সহজেই...  \n",
       "4  কম্পিউটার মাউসের উদ্ভাবক ডগলাস অ্যাঙ্গেলবার্ট ...  "
      ]
     },
     "execution_count": 4,
     "metadata": {},
     "output_type": "execute_result"
    }
   ],
   "source": [
    "def clean_text(text):\n",
    "    # Check if text is a string, otherwise convert to an empty string\n",
    "    if not isinstance(text, str):\n",
    "        text = \"\"\n",
    "    # Keep only Bangla characters and remove punctuation or symbols or unnecessary whitespace\n",
    "    text = re.sub(r'[^\\u0980-\\u09FF\\s]', '', text)  # Keep only Bangla characters\n",
    "    text = re.sub(r'\\s+', ' ', text).strip()  # Remove extra spaces\n",
    "    return text\n",
    "\n",
    "df['cleaned_text'] = df['content'].apply(clean_text) \n",
    "df[['content', 'cleaned_text']].head()"
   ]
  },
  {
   "cell_type": "markdown",
   "metadata": {},
   "source": [
    "4: Tokenization"
   ]
  },
  {
   "cell_type": "code",
   "execution_count": 5,
   "metadata": {},
   "outputs": [
    {
     "data": {
      "text/html": [
       "<div>\n",
       "<style scoped>\n",
       "    .dataframe tbody tr th:only-of-type {\n",
       "        vertical-align: middle;\n",
       "    }\n",
       "\n",
       "    .dataframe tbody tr th {\n",
       "        vertical-align: top;\n",
       "    }\n",
       "\n",
       "    .dataframe thead th {\n",
       "        text-align: right;\n",
       "    }\n",
       "</style>\n",
       "<table border=\"1\" class=\"dataframe\">\n",
       "  <thead>\n",
       "    <tr style=\"text-align: right;\">\n",
       "      <th></th>\n",
       "      <th>cleaned_text</th>\n",
       "      <th>tokens</th>\n",
       "    </tr>\n",
       "  </thead>\n",
       "  <tbody>\n",
       "    <tr>\n",
       "      <th>0</th>\n",
       "      <td>গাজীপুরের কালিয়াকৈর উপজেলার তেলিরচালা এলাকায়...</td>\n",
       "      <td>[গাজীপুরের, কালিয়াকৈর, উপজেলার, তেলিরচালা, এল...</td>\n",
       "    </tr>\n",
       "    <tr>\n",
       "      <th>1</th>\n",
       "      <td>এবারের উইম্বলডনটা স্মরণীয় করে রাখার মিশনেই যে...</td>\n",
       "      <td>[এবারের, উইম্বলডনটা, স্মরণীয়, করে, রাখার, মিশ...</td>\n",
       "    </tr>\n",
       "    <tr>\n",
       "      <th>2</th>\n",
       "      <td>জাতীয় সংসদে বিএনপি চেয়ারপারসন ও বিরোধীদলীয় ...</td>\n",
       "      <td>[জাতীয়, সংসদে, বিএনপি, চেয়ারপারসন, ও, বিরোধী...</td>\n",
       "    </tr>\n",
       "    <tr>\n",
       "      <th>3</th>\n",
       "      <td>সহজ পাসওয়ার্ডের কারণে অনলাইন অ্যাকাউন্ট সহজেই...</td>\n",
       "      <td>[সহজ, পাসওয়ার্ডের, কারণে, অনলাইন, অ্যাকাউন্ট,...</td>\n",
       "    </tr>\n",
       "    <tr>\n",
       "      <th>4</th>\n",
       "      <td>কম্পিউটার মাউসের উদ্ভাবক ডগলাস অ্যাঙ্গেলবার্ট ...</td>\n",
       "      <td>[কম্পিউটার, মাউসের, উদ্ভাবক, ডগলাস, অ্যাঙ্গেলব...</td>\n",
       "    </tr>\n",
       "  </tbody>\n",
       "</table>\n",
       "</div>"
      ],
      "text/plain": [
       "                                        cleaned_text  \\\n",
       "0  গাজীপুরের কালিয়াকৈর উপজেলার তেলিরচালা এলাকায়...   \n",
       "1  এবারের উইম্বলডনটা স্মরণীয় করে রাখার মিশনেই যে...   \n",
       "2  জাতীয় সংসদে বিএনপি চেয়ারপারসন ও বিরোধীদলীয় ...   \n",
       "3  সহজ পাসওয়ার্ডের কারণে অনলাইন অ্যাকাউন্ট সহজেই...   \n",
       "4  কম্পিউটার মাউসের উদ্ভাবক ডগলাস অ্যাঙ্গেলবার্ট ...   \n",
       "\n",
       "                                              tokens  \n",
       "0  [গাজীপুরের, কালিয়াকৈর, উপজেলার, তেলিরচালা, এল...  \n",
       "1  [এবারের, উইম্বলডনটা, স্মরণীয়, করে, রাখার, মিশ...  \n",
       "2  [জাতীয়, সংসদে, বিএনপি, চেয়ারপারসন, ও, বিরোধী...  \n",
       "3  [সহজ, পাসওয়ার্ডের, কারণে, অনলাইন, অ্যাকাউন্ট,...  \n",
       "4  [কম্পিউটার, মাউসের, উদ্ভাবক, ডগলাস, অ্যাঙ্গেলব...  "
      ]
     },
     "execution_count": 5,
     "metadata": {},
     "output_type": "execute_result"
    }
   ],
   "source": [
    "# Initialize tokenizer\n",
    "tokenizer = NLTKTokenizer()\n",
    "\n",
    "def tokenize_text(text):\n",
    "    tokens = tokenizer.word_tokenize(text)\n",
    "    return tokens\n",
    "\n",
    "df['tokens'] = df['cleaned_text'].apply(tokenize_text)\n",
    "df[['cleaned_text', 'tokens']].head()"
   ]
  },
  {
   "cell_type": "markdown",
   "metadata": {},
   "source": [
    "5: Stop Word Removal"
   ]
  },
  {
   "cell_type": "code",
   "execution_count": 6,
   "metadata": {},
   "outputs": [
    {
     "data": {
      "text/html": [
       "<div>\n",
       "<style scoped>\n",
       "    .dataframe tbody tr th:only-of-type {\n",
       "        vertical-align: middle;\n",
       "    }\n",
       "\n",
       "    .dataframe tbody tr th {\n",
       "        vertical-align: top;\n",
       "    }\n",
       "\n",
       "    .dataframe thead th {\n",
       "        text-align: right;\n",
       "    }\n",
       "</style>\n",
       "<table border=\"1\" class=\"dataframe\">\n",
       "  <thead>\n",
       "    <tr style=\"text-align: right;\">\n",
       "      <th></th>\n",
       "      <th>cleaned_text</th>\n",
       "      <th>tokens_no_stopwords</th>\n",
       "      <th>preprocessed_text</th>\n",
       "    </tr>\n",
       "  </thead>\n",
       "  <tbody>\n",
       "    <tr>\n",
       "      <th>0</th>\n",
       "      <td>গাজীপুরের কালিয়াকৈর উপজেলার তেলিরচালা এলাকায়...</td>\n",
       "      <td>[গাজীপুরের, কালিয়াকৈর, উপজেলার, তেলিরচালা, এল...</td>\n",
       "      <td>গাজীপুরের কালিয়াকৈর উপজেলার তেলিরচালা এলাকায়...</td>\n",
       "    </tr>\n",
       "    <tr>\n",
       "      <th>1</th>\n",
       "      <td>এবারের উইম্বলডনটা স্মরণীয় করে রাখার মিশনেই যে...</td>\n",
       "      <td>[এবারের, উইম্বলডনটা, স্মরণীয়, রাখার, মিশনেই, ...</td>\n",
       "      <td>এবারের উইম্বলডনটা স্মরণীয় রাখার মিশনেই নেমেছে...</td>\n",
       "    </tr>\n",
       "    <tr>\n",
       "      <th>2</th>\n",
       "      <td>জাতীয় সংসদে বিএনপি চেয়ারপারসন ও বিরোধীদলীয় ...</td>\n",
       "      <td>[জাতীয়, সংসদে, বিএনপি, চেয়ারপারসন, বিরোধীদলী...</td>\n",
       "      <td>জাতীয় সংসদে বিএনপি চেয়ারপারসন বিরোধীদলীয় নে...</td>\n",
       "    </tr>\n",
       "    <tr>\n",
       "      <th>3</th>\n",
       "      <td>সহজ পাসওয়ার্ডের কারণে অনলাইন অ্যাকাউন্ট সহজেই...</td>\n",
       "      <td>[সহজ, পাসওয়ার্ডের, কারণে, অনলাইন, অ্যাকাউন্ট,...</td>\n",
       "      <td>সহজ পাসওয়ার্ডের কারণে অনলাইন অ্যাকাউন্ট সহজেই...</td>\n",
       "    </tr>\n",
       "    <tr>\n",
       "      <th>4</th>\n",
       "      <td>কম্পিউটার মাউসের উদ্ভাবক ডগলাস অ্যাঙ্গেলবার্ট ...</td>\n",
       "      <td>[কম্পিউটার, মাউসের, উদ্ভাবক, ডগলাস, অ্যাঙ্গেলব...</td>\n",
       "      <td>কম্পিউটার মাউসের উদ্ভাবক ডগলাস অ্যাঙ্গেলবার্ট ...</td>\n",
       "    </tr>\n",
       "  </tbody>\n",
       "</table>\n",
       "</div>"
      ],
      "text/plain": [
       "                                        cleaned_text  \\\n",
       "0  গাজীপুরের কালিয়াকৈর উপজেলার তেলিরচালা এলাকায়...   \n",
       "1  এবারের উইম্বলডনটা স্মরণীয় করে রাখার মিশনেই যে...   \n",
       "2  জাতীয় সংসদে বিএনপি চেয়ারপারসন ও বিরোধীদলীয় ...   \n",
       "3  সহজ পাসওয়ার্ডের কারণে অনলাইন অ্যাকাউন্ট সহজেই...   \n",
       "4  কম্পিউটার মাউসের উদ্ভাবক ডগলাস অ্যাঙ্গেলবার্ট ...   \n",
       "\n",
       "                                 tokens_no_stopwords  \\\n",
       "0  [গাজীপুরের, কালিয়াকৈর, উপজেলার, তেলিরচালা, এল...   \n",
       "1  [এবারের, উইম্বলডনটা, স্মরণীয়, রাখার, মিশনেই, ...   \n",
       "2  [জাতীয়, সংসদে, বিএনপি, চেয়ারপারসন, বিরোধীদলী...   \n",
       "3  [সহজ, পাসওয়ার্ডের, কারণে, অনলাইন, অ্যাকাউন্ট,...   \n",
       "4  [কম্পিউটার, মাউসের, উদ্ভাবক, ডগলাস, অ্যাঙ্গেলব...   \n",
       "\n",
       "                                   preprocessed_text  \n",
       "0  গাজীপুরের কালিয়াকৈর উপজেলার তেলিরচালা এলাকায়...  \n",
       "1  এবারের উইম্বলডনটা স্মরণীয় রাখার মিশনেই নেমেছে...  \n",
       "2  জাতীয় সংসদে বিএনপি চেয়ারপারসন বিরোধীদলীয় নে...  \n",
       "3  সহজ পাসওয়ার্ডের কারণে অনলাইন অ্যাকাউন্ট সহজেই...  \n",
       "4  কম্পিউটার মাউসের উদ্ভাবক ডগলাস অ্যাঙ্গেলবার্ট ...  "
      ]
     },
     "execution_count": 6,
     "metadata": {},
     "output_type": "execute_result"
    }
   ],
   "source": [
    "# Load Bangla stop words as a set for faster lookup\n",
    "stop_words = set(corpus.stopwords)\n",
    "\n",
    "def remove_stopwords(tokens):\n",
    "    return [word for word in tokens if word not in stop_words]\n",
    "\n",
    "df['tokens_no_stopwords'] = df['tokens'].apply(remove_stopwords)\n",
    "df['preprocessed_text'] = df['tokens_no_stopwords'].apply(lambda tokens: ' '.join(tokens))\n",
    "df[['cleaned_text', 'tokens_no_stopwords', 'preprocessed_text']].head()"
   ]
  },
  {
   "cell_type": "markdown",
   "metadata": {},
   "source": [
    "6: Save Preprocessed Data"
   ]
  },
  {
   "cell_type": "code",
   "execution_count": 7,
   "metadata": {},
   "outputs": [
    {
     "name": "stdout",
     "output_type": "stream",
     "text": [
      "Preprocessed data saved to 'preprocessed_data.csv'\n"
     ]
    }
   ],
   "source": [
    "df[['content', 'preprocessed_text']].to_csv(\"preprocessed_data.csv\", index=False)\n",
    "print(\"Preprocessed data saved to 'preprocessed_data.csv'\")"
   ]
  },
  {
   "cell_type": "code",
   "execution_count": 8,
   "metadata": {},
   "outputs": [
    {
     "data": {
      "text/plain": [
       "count    20000.000000\n",
       "mean       175.535000\n",
       "std        133.718553\n",
       "min          0.000000\n",
       "25%         88.000000\n",
       "50%        142.000000\n",
       "75%        222.000000\n",
       "max       1497.000000\n",
       "Name: preprocessed_text, dtype: float64"
      ]
     },
     "execution_count": 8,
     "metadata": {},
     "output_type": "execute_result"
    }
   ],
   "source": [
    "# Check length of preprocessed text\n",
    "df['preprocessed_text'].apply(lambda x: len(x.split())).describe()"
   ]
  }
 ],
 "metadata": {
  "kernelspec": {
   "display_name": "env",
   "language": "python",
   "name": "python3"
  },
  "language_info": {
   "codemirror_mode": {
    "name": "ipython",
    "version": 3
   },
   "file_extension": ".py",
   "mimetype": "text/x-python",
   "name": "python",
   "nbconvert_exporter": "python",
   "pygments_lexer": "ipython3",
   "version": "3.11.4"
  }
 },
 "nbformat": 4,
 "nbformat_minor": 2
}
