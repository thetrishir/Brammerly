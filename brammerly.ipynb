{
 "cells": [
  {
   "cell_type": "code",
   "execution_count": 1,
   "metadata": {},
   "outputs": [],
   "source": [
    "# Version\t            Python version\t   Compiler\t    Build tools\t  cuDNN\t  CUDA\n",
    "# tensorflow_gpu-2.10.0\t   3.7-3.10\t       MSVC 2019\tBazel 5.1.1\t   8.1\t  11.2\n",
    "\n",
    "# %pip install nvidia-pyindex\n",
    "# %pip install tensorflow-gpu==2.10.0\n",
    "# %pip install torch\n",
    "# %pip install torch torchvision torchaudio --index-url https://download.pytorch.org/whl/cu118\n",
    "# %pip install transformers\n",
    "# %pip install transformers[torch]\n",
    "# %pip install accelerate>=0.26.0"
   ]
  },
  {
   "cell_type": "markdown",
   "metadata": {},
   "source": [
    "Preprocessed Dataset (for Bert Model Training)"
   ]
  },
  {
   "cell_type": "markdown",
   "metadata": {},
   "source": [
    "1. Splitting the Dataset"
   ]
  },
  {
   "cell_type": "code",
   "execution_count": null,
   "metadata": {},
   "outputs": [],
   "source": [
    "import pandas as pd\n",
    "from sklearn.model_selection import train_test_split\n",
    "\n",
    "# Load your dataset\n",
    "data = pd.read_csv(\"datasets/sentence_data.csv\")  # Ensure your dataset is in the correct CSV format\n",
    "\n",
    "# Split the dataset\n",
    "train_data, temp_data = train_test_split(data, test_size=0.2, random_state=42)\n",
    "val_data, test_data = train_test_split(temp_data, test_size=0.5, random_state=42)\n",
    "\n",
    "# Save the splits for future use\n",
    "train_data.to_csv(\"datasets/train_data.csv\", index=False)\n",
    "val_data.to_csv(\"datasets/val_data.csv\", index=False)\n",
    "test_data.to_csv(\"datasets/test_data.csv\", index=False)\n",
    "\n",
    "print(f\"Training set size: {len(train_data)}\")\n",
    "print(f\"Validation set size: {len(val_data)}\")\n",
    "print(f\"Test set size: {len(test_data)}\")\n"
   ]
  },
  {
   "cell_type": "code",
   "execution_count": null,
   "metadata": {},
   "outputs": [],
   "source": [
    "print(train_data.columns)\n",
    "print(val_data.columns)"
   ]
  },
  {
   "cell_type": "markdown",
   "metadata": {},
   "source": [
    "Phase 1: Spell Correction"
   ]
  },
  {
   "cell_type": "code",
   "execution_count": null,
   "metadata": {},
   "outputs": [],
   "source": [
    "from transformers import BertTokenizer, BertForSequenceClassification, Trainer, TrainingArguments\n",
    "\n",
    "# Initialize tokenizer and model\n",
    "tokenizer = BertTokenizer.from_pretrained(\"sagorsarker/bangla-bert-base\")\n",
    "model = BertForSequenceClassification.from_pretrained(\"sagorsarker/bangla-bert-base\", num_labels=2)\n",
    "\n",
    "# Tokenize data\n",
    "train_encodings = tokenizer(list(train_data['synth_spelling_errors']), truncation=True, padding=True)\n",
    "val_encodings = tokenizer(list(val_data['synth_spelling_errors']), truncation=True, padding=True)\n",
    "\n",
    "# Convert to PyTorch dataset\n",
    "import torch\n",
    "class BanglaDataset(torch.utils.data.Dataset):\n",
    "    def __init__(self, encodings, labels):\n",
    "        self.encodings = encodings\n",
    "        self.labels = labels\n",
    "\n",
    "    def __len__(self):\n",
    "        return len(self.labels)\n",
    "\n",
    "    def __getitem__(self, idx):\n",
    "        item = {key: torch.tensor(val[idx]) for key, val in self.encodings.items()}\n",
    "        item[\"labels\"] = torch.tensor(self.labels[idx])\n",
    "        return item\n",
    "\n",
    "train_labels = list(train_data['cleaned_text'])\n",
    "val_labels = list(val_data['cleaned_text'])\n",
    "\n",
    "train_dataset = BanglaDataset(train_encodings, train_labels)\n",
    "val_dataset = BanglaDataset(val_encodings, val_labels)\n",
    "\n",
    "# Training arguments\n",
    "training_args = TrainingArguments(\n",
    "    output_dir='./results',\n",
    "    num_train_epochs=3,\n",
    "    per_device_train_batch_size=16,\n",
    "    per_device_eval_batch_size=64,\n",
    "    warmup_steps=500,\n",
    "    weight_decay=0.01,\n",
    "    logging_dir='./logs',\n",
    "    logging_steps=10,\n",
    "    evaluation_strategy=\"epoch\"\n",
    ")\n",
    "\n",
    "# Trainer\n",
    "trainer = Trainer(\n",
    "    model=model,\n",
    "    args=training_args,\n",
    "    train_dataset=train_dataset,\n",
    "    eval_dataset=val_dataset\n",
    ")\n",
    "\n",
    "# Train the model\n",
    "trainer.train()"
   ]
  },
  {
   "cell_type": "markdown",
   "metadata": {},
   "source": [
    "Phase 2: Grammar Correction"
   ]
  },
  {
   "cell_type": "code",
   "execution_count": null,
   "metadata": {},
   "outputs": [],
   "source": [
    "# Install GECToR dependencies (done once)\n",
    "# !pip install allennlp allennlp-models\n",
    "\n",
    "from allennlp.predictors import Predictor\n",
    "from allennlp_models.pretrained import load_predictor\n",
    "\n",
    "# Load GECToR pre-trained model\n",
    "predictor = load_predictor(\"https://storage.googleapis.com/allennlp-public-models/roberta-base-2020.06.09.tar.gz\")\n",
    "\n",
    "# Example prediction\n",
    "example_sentence = \"তোমরা ভুলগুলো চিহ্নিত করনি।\"\n",
    "prediction = predictor.predict(sentence=example_sentence)\n",
    "\n",
    "# Output\n",
    "print(\"Original:\", example_sentence)\n",
    "print(\"Corrected:\", prediction[\"tokens\"])\n"
   ]
  },
  {
   "cell_type": "markdown",
   "metadata": {},
   "source": [
    "Phase 3: Sentence Correction"
   ]
  },
  {
   "cell_type": "code",
   "execution_count": null,
   "metadata": {},
   "outputs": [],
   "source": [
    "from transformers import T5ForConditionalGeneration, T5Tokenizer\n",
    "\n",
    "# Load T5 model and tokenizer\n",
    "model_name = \"google/mt5-small\"  # Use T5 pre-trained model for multilingual tasks\n",
    "tokenizer = T5Tokenizer.from_pretrained(model_name)\n",
    "model = T5ForConditionalGeneration.from_pretrained(model_name)\n",
    "\n",
    "# Tokenize data for T5\n",
    "def preprocess_function(examples):\n",
    "    inputs = [f\"grammar: {i}\" for i in examples[\"incorrect_sentence\"]]\n",
    "    outputs = examples[\"cleaned_text\"]\n",
    "    model_inputs = tokenizer(inputs, text_target=outputs, max_length=128, truncation=True)\n",
    "    return model_inputs\n",
    "\n",
    "# Tokenize train and validation sets\n",
    "from datasets import Dataset\n",
    "train_dataset = Dataset.from_pandas(train_data)\n",
    "val_dataset = Dataset.from_pandas(val_data)\n",
    "\n",
    "train_dataset = train_dataset.map(preprocess_function, batched=True)\n",
    "val_dataset = val_dataset.map(preprocess_function, batched=True)\n",
    "\n",
    "# Fine-tune the model\n",
    "from transformers import Seq2SeqTrainingArguments, Seq2SeqTrainer\n",
    "\n",
    "training_args = Seq2SeqTrainingArguments(\n",
    "    output_dir=\"./results\",\n",
    "    evaluation_strategy=\"epoch\",\n",
    "    learning_rate=2e-5,\n",
    "    per_device_train_batch_size=16,\n",
    "    per_device_eval_batch_size=16,\n",
    "    num_train_epochs=3,\n",
    "    weight_decay=0.01,\n",
    "    predict_with_generate=True,\n",
    ")\n",
    "\n",
    "trainer = Seq2SeqTrainer(\n",
    "    model=model,\n",
    "    args=training_args,\n",
    "    train_dataset=train_dataset,\n",
    "    eval_dataset=val_dataset,\n",
    ")\n",
    "\n",
    "trainer.train()\n",
    "trainer.save_model(\"t5_sentence_correction_model\")\n"
   ]
  }
 ],
 "metadata": {
  "kernelspec": {
   "display_name": "Python 3",
   "language": "python",
   "name": "python3"
  },
  "language_info": {
   "codemirror_mode": {
    "name": "ipython",
    "version": 3
   },
   "file_extension": ".py",
   "mimetype": "text/x-python",
   "name": "python",
   "nbconvert_exporter": "python",
   "pygments_lexer": "ipython3",
   "version": "3.10.0"
  }
 },
 "nbformat": 4,
 "nbformat_minor": 2
}
